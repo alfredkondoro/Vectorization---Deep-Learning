{
 "cells": [
  {
   "cell_type": "code",
   "execution_count": 1,
   "id": "01a9288e",
   "metadata": {
    "execution": {
     "iopub.execute_input": "2024-03-29T16:36:13.401731Z",
     "iopub.status.busy": "2024-03-29T16:36:13.401320Z",
     "iopub.status.idle": "2024-03-29T16:36:13.415772Z",
     "shell.execute_reply": "2024-03-29T16:36:13.414081Z"
    },
    "papermill": {
     "duration": 0.025499,
     "end_time": "2024-03-29T16:36:13.418895",
     "exception": false,
     "start_time": "2024-03-29T16:36:13.393396",
     "status": "completed"
    },
    "tags": []
   },
   "outputs": [],
   "source": [
    "# Import libraries\n",
    "import numpy as np\n",
    "import time\n",
    "import random"
   ]
  },
  {
   "cell_type": "code",
   "execution_count": 2,
   "id": "0feaa517",
   "metadata": {
    "execution": {
     "iopub.execute_input": "2024-03-29T16:36:13.433128Z",
     "iopub.status.busy": "2024-03-29T16:36:13.432635Z",
     "iopub.status.idle": "2024-03-29T16:36:13.477118Z",
     "shell.execute_reply": "2024-03-29T16:36:13.475634Z"
    },
    "papermill": {
     "duration": 0.055187,
     "end_time": "2024-03-29T16:36:13.480035",
     "exception": false,
     "start_time": "2024-03-29T16:36:13.424848",
     "status": "completed"
    },
    "tags": []
   },
   "outputs": [],
   "source": [
    "# Array initialization\n",
    "x1 = [random.randint(1, 1000000) for _ in range(10000)]\n",
    "x2 = [random.randint(1, 1000000) for _ in range(10000)]"
   ]
  },
  {
   "cell_type": "markdown",
   "id": "ec22a3ca",
   "metadata": {
    "papermill": {
     "duration": 0.005249,
     "end_time": "2024-03-29T16:36:13.490862",
     "exception": false,
     "start_time": "2024-03-29T16:36:13.485613",
     "status": "completed"
    },
    "tags": []
   },
   "source": [
    "## Classic Dot Product Implementation"
   ]
  },
  {
   "cell_type": "code",
   "execution_count": 3,
   "id": "259314a7",
   "metadata": {
    "execution": {
     "iopub.execute_input": "2024-03-29T16:36:13.503922Z",
     "iopub.status.busy": "2024-03-29T16:36:13.503470Z",
     "iopub.status.idle": "2024-03-29T16:36:13.516328Z",
     "shell.execute_reply": "2024-03-29T16:36:13.515041Z"
    },
    "papermill": {
     "duration": 0.022734,
     "end_time": "2024-03-29T16:36:13.519211",
     "exception": false,
     "start_time": "2024-03-29T16:36:13.496477",
     "status": "completed"
    },
    "tags": []
   },
   "outputs": [
    {
     "name": "stdout",
     "output_type": "stream",
     "text": [
      "Dot product = 2454878833379137\n",
      "Computation time = 5.008331999999616ms\n"
     ]
    }
   ],
   "source": [
    "tic = time.process_time()\n",
    "dot_product = 0\n",
    "for i in range(len(x1)):\n",
    "    dot_product +=x1[i]*x2[i]\n",
    "toc = time.process_time()\n",
    "print(\"Dot product = \" + str(dot_product))\n",
    "print(\"Computation time = \" + str(1000 * (toc -tic)) + \"ms\")"
   ]
  },
  {
   "cell_type": "markdown",
   "id": "ab47bf39",
   "metadata": {
    "papermill": {
     "duration": 0.006332,
     "end_time": "2024-03-29T16:36:13.531173",
     "exception": false,
     "start_time": "2024-03-29T16:36:13.524841",
     "status": "completed"
    },
    "tags": []
   },
   "source": [
    "## Classic Outer Product Implementation"
   ]
  },
  {
   "cell_type": "code",
   "execution_count": 4,
   "id": "4352edfd",
   "metadata": {
    "execution": {
     "iopub.execute_input": "2024-03-29T16:36:13.544852Z",
     "iopub.status.busy": "2024-03-29T16:36:13.544467Z",
     "iopub.status.idle": "2024-03-29T16:37:27.075228Z",
     "shell.execute_reply": "2024-03-29T16:37:27.073741Z"
    },
    "papermill": {
     "duration": 73.545954,
     "end_time": "2024-03-29T16:37:27.083317",
     "exception": false,
     "start_time": "2024-03-29T16:36:13.537363",
     "status": "completed"
    },
    "tags": []
   },
   "outputs": [
    {
     "name": "stdout",
     "output_type": "stream",
     "text": [
      "Outer product = [[1.73625925e+11 1.34658348e+11 8.07871724e+10 ... 8.24597975e+10\n",
      "  2.76192685e+10 7.18509651e+10]\n",
      " [4.10896484e+11 3.18677304e+11 1.91187838e+11 ... 1.95146208e+11\n",
      "  6.53627062e+10 1.70039751e+11]\n",
      " [3.22121671e+11 2.49826585e+11 1.49881413e+11 ... 1.52984572e+11\n",
      "  5.12409936e+10 1.33302403e+11]\n",
      " ...\n",
      " [2.18193273e+11 1.69223263e+11 1.01524110e+11 ... 1.03626075e+11\n",
      "  3.47087486e+10 9.02941036e+10]\n",
      " [7.60549886e+10 5.89856561e+10 3.53879611e+10 ... 3.61206368e+10\n",
      "  1.20983266e+10 3.14735506e+10]\n",
      " [2.56829557e+11 1.99188248e+11 1.19501358e+11 ... 1.21975525e+11\n",
      "  4.08547543e+10 1.06282812e+11]]\n",
      "Computation time = 73363.309741ms\n"
     ]
    }
   ],
   "source": [
    "tic = time.process_time()\n",
    "# we create a len(x1)*len(x2) matrix with only zeros\n",
    "outer_product = np.zeros((len(x1),len(x2))) \n",
    "for i in range(len(x1)):\n",
    "    for j in range(len(x2)):\n",
    "        outer_product[i, j] = x1[i] * x2[j]\n",
    "toc = time.process_time()\n",
    "print(\"Outer product = \" + str(outer_product))\n",
    "print(\"Computation time = \" + str(1000 * (toc -tic)) + \"ms\")"
   ]
  },
  {
   "cell_type": "markdown",
   "id": "22dc067c",
   "metadata": {
    "papermill": {
     "duration": 0.005451,
     "end_time": "2024-03-29T16:37:27.094691",
     "exception": false,
     "start_time": "2024-03-29T16:37:27.089240",
     "status": "completed"
    },
    "tags": []
   },
   "source": [
    "## Classic Elementwise Implementation"
   ]
  },
  {
   "cell_type": "code",
   "execution_count": 5,
   "id": "01f959e7",
   "metadata": {
    "execution": {
     "iopub.execute_input": "2024-03-29T16:37:27.108533Z",
     "iopub.status.busy": "2024-03-29T16:37:27.108125Z",
     "iopub.status.idle": "2024-03-29T16:37:27.123423Z",
     "shell.execute_reply": "2024-03-29T16:37:27.122107Z"
    },
    "papermill": {
     "duration": 0.025961,
     "end_time": "2024-03-29T16:37:27.126384",
     "exception": false,
     "start_time": "2024-03-29T16:37:27.100423",
     "status": "completed"
    },
    "tags": []
   },
   "outputs": [
    {
     "name": "stdout",
     "output_type": "stream",
     "text": [
      "Elementwise product = [1.73625925e+11 3.18677304e+11 1.49881413e+11 ... 1.03626075e+11\n",
      " 1.20983266e+10 1.06282812e+11]\n",
      "Computation time = 7.653190999988624ms\n"
     ]
    }
   ],
   "source": [
    "tic = time.process_time()\n",
    "elementwise_product = np.zeros(len(x1))\n",
    "for i in range(len(x1)):\n",
    "    elementwise_product[i] = x1[i]*x2[i]\n",
    "toc = time.process_time()\n",
    "print(\"Elementwise product = \" + str(elementwise_product))\n",
    "print(\"Computation time = \" + str(1000 * (toc -tic)) + \"ms\")"
   ]
  },
  {
   "cell_type": "markdown",
   "id": "3e23f119",
   "metadata": {
    "papermill": {
     "duration": 0.005843,
     "end_time": "2024-03-29T16:37:27.138186",
     "exception": false,
     "start_time": "2024-03-29T16:37:27.132343",
     "status": "completed"
    },
    "tags": []
   },
   "source": [
    "## Classic General Dot Product Implementation"
   ]
  },
  {
   "cell_type": "code",
   "execution_count": 6,
   "id": "8bd59e4e",
   "metadata": {
    "execution": {
     "iopub.execute_input": "2024-03-29T16:37:27.152039Z",
     "iopub.status.busy": "2024-03-29T16:37:27.151631Z",
     "iopub.status.idle": "2024-03-29T16:37:27.197781Z",
     "shell.execute_reply": "2024-03-29T16:37:27.196666Z"
    },
    "papermill": {
     "duration": 0.055986,
     "end_time": "2024-03-29T16:37:27.200312",
     "exception": false,
     "start_time": "2024-03-29T16:37:27.144326",
     "status": "completed"
    },
    "tags": []
   },
   "outputs": [
    {
     "name": "stdout",
     "output_type": "stream",
     "text": [
      "General Dot product = [2.46863216e+09 2.46970963e+09 2.48840273e+09]\n",
      "Computation time = 37.710732999997276ms\n"
     ]
    }
   ],
   "source": [
    "# Random 3*len(x1) numpy array\n",
    "W = np.random.rand(3,len(x1))\n",
    "tic = time.process_time()\n",
    "gdot_product = np.zeros(W.shape[0])\n",
    "for i in range(W.shape[0]):\n",
    "    for j in range(len(x1)):\n",
    "        gdot_product[i] += W[i,j]*x1[j]\n",
    "toc = time.process_time()\n",
    "print(\"General Dot product = \" + str(gdot_product))\n",
    "print(\"Computation time = \" + str(1000 * (toc -tic)) + \"ms\")"
   ]
  },
  {
   "cell_type": "markdown",
   "id": "2c219f9b",
   "metadata": {
    "papermill": {
     "duration": 0.00567,
     "end_time": "2024-03-29T16:37:27.211826",
     "exception": false,
     "start_time": "2024-03-29T16:37:27.206156",
     "status": "completed"
    },
    "tags": []
   },
   "source": [
    "## Numpy Dot Implementation"
   ]
  },
  {
   "cell_type": "code",
   "execution_count": 7,
   "id": "e6b9ef33",
   "metadata": {
    "execution": {
     "iopub.execute_input": "2024-03-29T16:37:27.225687Z",
     "iopub.status.busy": "2024-03-29T16:37:27.225314Z",
     "iopub.status.idle": "2024-03-29T16:37:27.234407Z",
     "shell.execute_reply": "2024-03-29T16:37:27.233459Z"
    },
    "papermill": {
     "duration": 0.019731,
     "end_time": "2024-03-29T16:37:27.237725",
     "exception": false,
     "start_time": "2024-03-29T16:37:27.217994",
     "status": "completed"
    },
    "tags": []
   },
   "outputs": [
    {
     "name": "stdout",
     "output_type": "stream",
     "text": [
      "Dot product = 2454878833379137\n",
      "Computation time = 2.5152709999929357ms\n"
     ]
    }
   ],
   "source": [
    "tic = time.process_time()\n",
    "npdot_product = np.dot(x1, x2)\n",
    "toc = time.process_time()\n",
    "print(\"Dot product = \" + str(npdot_product))\n",
    "print(\"Computation time = \" + str(1000 * (toc - tic)) + \"ms\")"
   ]
  },
  {
   "cell_type": "markdown",
   "id": "f4b8a218",
   "metadata": {
    "papermill": {
     "duration": 0.005711,
     "end_time": "2024-03-29T16:37:27.250039",
     "exception": false,
     "start_time": "2024-03-29T16:37:27.244328",
     "status": "completed"
    },
    "tags": []
   },
   "source": [
    "## Numpy Outer Product Implementation"
   ]
  },
  {
   "cell_type": "code",
   "execution_count": 8,
   "id": "ed99bf45",
   "metadata": {
    "execution": {
     "iopub.execute_input": "2024-03-29T16:37:27.263993Z",
     "iopub.status.busy": "2024-03-29T16:37:27.263572Z",
     "iopub.status.idle": "2024-03-29T16:37:27.643368Z",
     "shell.execute_reply": "2024-03-29T16:37:27.641994Z"
    },
    "papermill": {
     "duration": 0.389958,
     "end_time": "2024-03-29T16:37:27.646073",
     "exception": false,
     "start_time": "2024-03-29T16:37:27.256115",
     "status": "completed"
    },
    "tags": []
   },
   "outputs": [
    {
     "name": "stdout",
     "output_type": "stream",
     "text": [
      "Numpy Outer product = [[173625924780 134658347580  80787172380 ...  82459797480  27619268460\n",
      "   71850965100]\n",
      " [410896484460 318677304060 191187837660 ... 195146208360  65362706220\n",
      "  170039750700]\n",
      " [322121670948 249826585428 149881413108 ... 152984571768  51240993636\n",
      "  133302402660]\n",
      " ...\n",
      " [218193272913 169223263293 101524110373 ... 103626074958  34708748641\n",
      "   90294103585]\n",
      " [ 76054988625  58985656125  35387961125 ...  36120636750  12098326625\n",
      "   31473550625]\n",
      " [256829557215 199188248115 119501357515 ... 121975524690  40854754255\n",
      "  106282812175]]\n",
      "Computation time = 369.6522019999975ms\n"
     ]
    }
   ],
   "source": [
    "tic = time.process_time()\n",
    "npouter_product = np.outer(x1, x2)\n",
    "toc = time.process_time()\n",
    "print(\"Numpy Outer product = \" + str(npouter_product))\n",
    "print(\"Computation time = \" + str(1000 * (toc -tic)) + \"ms\")"
   ]
  },
  {
   "cell_type": "markdown",
   "id": "c4a79b3f",
   "metadata": {
    "papermill": {
     "duration": 0.006656,
     "end_time": "2024-03-29T16:37:27.658958",
     "exception": false,
     "start_time": "2024-03-29T16:37:27.652302",
     "status": "completed"
    },
    "tags": []
   },
   "source": [
    "## Numpy Elementwise Product Implementation"
   ]
  },
  {
   "cell_type": "code",
   "execution_count": 9,
   "id": "ee290943",
   "metadata": {
    "execution": {
     "iopub.execute_input": "2024-03-29T16:37:27.674919Z",
     "iopub.status.busy": "2024-03-29T16:37:27.674498Z",
     "iopub.status.idle": "2024-03-29T16:37:27.683753Z",
     "shell.execute_reply": "2024-03-29T16:37:27.682873Z"
    },
    "papermill": {
     "duration": 0.019588,
     "end_time": "2024-03-29T16:37:27.686101",
     "exception": false,
     "start_time": "2024-03-29T16:37:27.666513",
     "status": "completed"
    },
    "tags": []
   },
   "outputs": [
    {
     "name": "stdout",
     "output_type": "stream",
     "text": [
      "Numpy Elementwise product = [173625924780 318677304060 149881413108 ... 103626074958  12098326625\n",
      " 106282812175]\n",
      "Computation time = 0.1341149999944946ms\n"
     ]
    }
   ],
   "source": [
    "x1 = np.array(x1)\n",
    "x2 = np.array(x2)\n",
    "tic = time.process_time()\n",
    "npelementwise_product = x1 * x2\n",
    "toc = time.process_time()\n",
    "print(\"Numpy Elementwise product = \" + str(npelementwise_product))\n",
    "print(\"Computation time = \" + str(1000 * (toc -tic)) + \"ms\")"
   ]
  }
 ],
 "metadata": {
  "kaggle": {
   "accelerator": "none",
   "dataSources": [],
   "dockerImageVersionId": 30673,
   "isGpuEnabled": false,
   "isInternetEnabled": true,
   "language": "python",
   "sourceType": "notebook"
  },
  "kernelspec": {
   "display_name": "Python 3",
   "language": "python",
   "name": "python3"
  },
  "language_info": {
   "codemirror_mode": {
    "name": "ipython",
    "version": 3
   },
   "file_extension": ".py",
   "mimetype": "text/x-python",
   "name": "python",
   "nbconvert_exporter": "python",
   "pygments_lexer": "ipython3",
   "version": "3.10.13"
  },
  "papermill": {
   "default_parameters": {},
   "duration": 78.068969,
   "end_time": "2024-03-29T16:37:28.113627",
   "environment_variables": {},
   "exception": null,
   "input_path": "__notebook__.ipynb",
   "output_path": "__notebook__.ipynb",
   "parameters": {},
   "start_time": "2024-03-29T16:36:10.044658",
   "version": "2.5.0"
  }
 },
 "nbformat": 4,
 "nbformat_minor": 5
}
