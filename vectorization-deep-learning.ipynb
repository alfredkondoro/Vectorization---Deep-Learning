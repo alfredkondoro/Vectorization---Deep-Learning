{
 "cells": [
  {
   "cell_type": "code",
   "execution_count": 1,
   "id": "629b3884",
   "metadata": {
    "execution": {
     "iopub.execute_input": "2024-03-27T17:15:20.938859Z",
     "iopub.status.busy": "2024-03-27T17:15:20.937987Z",
     "iopub.status.idle": "2024-03-27T17:15:20.950497Z",
     "shell.execute_reply": "2024-03-27T17:15:20.949423Z"
    },
    "papermill": {
     "duration": 0.021259,
     "end_time": "2024-03-27T17:15:20.954223",
     "exception": false,
     "start_time": "2024-03-27T17:15:20.932964",
     "status": "completed"
    },
    "tags": []
   },
   "outputs": [],
   "source": [
    "#import libraries\n",
    "import numpy as np\n",
    "import time"
   ]
  },
  {
   "cell_type": "code",
   "execution_count": 2,
   "id": "ae5f1523",
   "metadata": {
    "execution": {
     "iopub.execute_input": "2024-03-27T17:15:20.961808Z",
     "iopub.status.busy": "2024-03-27T17:15:20.961312Z",
     "iopub.status.idle": "2024-03-27T17:15:37.432900Z",
     "shell.execute_reply": "2024-03-27T17:15:37.431900Z"
    },
    "papermill": {
     "duration": 16.478488,
     "end_time": "2024-03-27T17:15:37.435657",
     "exception": false,
     "start_time": "2024-03-27T17:15:20.957169",
     "status": "completed"
    },
    "tags": []
   },
   "outputs": [],
   "source": [
    "#Numpy arrays\n",
    "x1_numpy = np.random.rand(1,1000000000)\n",
    "x2_numpy = np.random.rand(1,1000000000)"
   ]
  },
  {
   "cell_type": "code",
   "execution_count": 3,
   "id": "cfb6025d",
   "metadata": {
    "execution": {
     "iopub.execute_input": "2024-03-27T17:15:37.442849Z",
     "iopub.status.busy": "2024-03-27T17:15:37.442076Z",
     "iopub.status.idle": "2024-03-27T17:23:27.405125Z",
     "shell.execute_reply": "2024-03-27T17:23:27.403923Z"
    },
    "papermill": {
     "duration": 469.969744,
     "end_time": "2024-03-27T17:23:27.407715",
     "exception": false,
     "start_time": "2024-03-27T17:15:37.437971",
     "status": "completed"
    },
    "tags": []
   },
   "outputs": [
    {
     "name": "stdout",
     "output_type": "stream",
     "text": [
      "Dot product = 250006649.0359326\n",
      "Computation time =469876.103226ms\n"
     ]
    }
   ],
   "source": [
    "tic = time.process_time()\n",
    "dot_product = 0\n",
    "for i in range(x1_numpy.shape[1]):\n",
    "    dot_product +=x1_numpy[0,i]*x2_numpy[0,i]\n",
    "toc = time.process_time()\n",
    "print(\"Dot product = \" + str(dot_product))\n",
    "print(\"Computation time =\" + str(1000 * (toc -tic)) + \"ms\")"
   ]
  },
  {
   "cell_type": "code",
   "execution_count": 4,
   "id": "9da3a4a7",
   "metadata": {
    "execution": {
     "iopub.execute_input": "2024-03-27T17:23:27.414368Z",
     "iopub.status.busy": "2024-03-27T17:23:27.413631Z",
     "iopub.status.idle": "2024-03-27T17:23:28.085204Z",
     "shell.execute_reply": "2024-03-27T17:23:28.084250Z"
    },
    "papermill": {
     "duration": 0.678165,
     "end_time": "2024-03-27T17:23:28.088167",
     "exception": false,
     "start_time": "2024-03-27T17:23:27.410002",
     "status": "completed"
    },
    "tags": []
   },
   "outputs": [
    {
     "name": "stdout",
     "output_type": "stream",
     "text": [
      "Dot product = [[2.50006649e+08]]\n",
      "Computation time =2460.364114000015ms\n"
     ]
    }
   ],
   "source": [
    "tic = time.process_time()\n",
    "dot_product = np.dot(x1_numpy, x2_numpy.T)\n",
    "toc = time.process_time()\n",
    "print(\"Dot product = \" + str(dot_product))\n",
    "print(\"Computation time =\" + str(1000 * (toc -tic)) + \"ms\")"
   ]
  }
 ],
 "metadata": {
  "kaggle": {
   "accelerator": "none",
   "dataSources": [],
   "dockerImageVersionId": 30673,
   "isGpuEnabled": false,
   "isInternetEnabled": true,
   "language": "python",
   "sourceType": "notebook"
  },
  "kernelspec": {
   "display_name": "Python 3",
   "language": "python",
   "name": "python3"
  },
  "language_info": {
   "codemirror_mode": {
    "name": "ipython",
    "version": 3
   },
   "file_extension": ".py",
   "mimetype": "text/x-python",
   "name": "python",
   "nbconvert_exporter": "python",
   "pygments_lexer": "ipython3",
   "version": "3.10.13"
  },
  "papermill": {
   "default_parameters": {},
   "duration": 490.602856,
   "end_time": "2024-03-27T17:23:28.736999",
   "environment_variables": {},
   "exception": null,
   "input_path": "__notebook__.ipynb",
   "output_path": "__notebook__.ipynb",
   "parameters": {},
   "start_time": "2024-03-27T17:15:18.134143",
   "version": "2.5.0"
  }
 },
 "nbformat": 4,
 "nbformat_minor": 5
}
